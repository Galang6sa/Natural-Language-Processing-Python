{
 "cells": [
  {
   "cell_type": "code",
   "execution_count": 1,
   "id": "ca1f29a3-5a94-4da0-8571-3994a5006b08",
   "metadata": {},
   "outputs": [],
   "source": [
    "#NLP\n",
    "#Natural language Processing"
   ]
  },
  {
   "cell_type": "code",
   "execution_count": 2,
   "id": "7ea4cec5-f7f8-41ba-9ede-d74f261ee80c",
   "metadata": {},
   "outputs": [],
   "source": [
    "positive_words = [\n",
    "    'bagus', 'mantap', 'suka', 'puas', 'baik', 'luar biasa', 'menyenangkan', 'hebat', 'terbaik', 'memuaskan', 'recommended', 'top', 'bagus sekali'  \n",
    "]\n",
    "\n",
    "negative_words = [\n",
    "    'buruk', 'kecewa', 'jelek', 'menyedihkan', 'parah', 'tidak puas', 'mengecewakan', 'salah', 'payah', 'memuaskan', 'tidak recommended', 'menyesal', 'tidak suka'  \n",
    "]"
   ]
  },
  {
   "cell_type": "code",
   "execution_count": null,
   "id": "1ff6b8c7-6be7-4fce-85d4-d7a28f5e7fbd",
   "metadata": {},
   "outputs": [
    {
     "name": "stdout",
     "output_type": "stream",
     "text": [
      "prediksi sentimen dari data review: \n",
      "sentimen ulasan: Netral \n"
     ]
    }
   ],
   "source": [
    "#clasify\n",
    "\n",
    "def classify_review(review): #positif, negatif, netral\n",
    "    words = review.lower().split() #lowercase & pisah kata\n",
    "\n",
    "    #hitung jumlah kata negatif/positif\n",
    "    positive_count = sum(word in positive_words for word in words)\n",
    "    negative_count = sum(word in negative_words for word in words)\n",
    "\n",
    "    #ngecek apaka postip atw tdk\n",
    "    if positive_count > negative_count:\n",
    "        return \"Positif\"\n",
    "    elif positive_count < negative_count:\n",
    "        return \"Negatif\"\n",
    "    else:\n",
    "        return \"Netral\" \n",
    "\n",
    "reviews = [\n",
    "    \"Produk ini sangat bagus dan saya sangat suka!\",\n",
    "    \"Saya kecewa dengan produk ini, sangat mengecewakan.\",\n",
    "    \"Biasa saja, tidak terlalu bagus namun juga tidak buruk.\",\n",
    "    \"Kualitasnya sangat buruk, saya kecewa dengan pembelian ini.\",\n",
    "    \"Produk ini luar biasa, sangat memuaskan dan kualitasnya top!\",\n",
    "    \"Saya merasa menyesal membeli produk ini, kualitasnya jelek sekali.\",\n",
    "    \"Bagus sekali, sesuai dengan ekspektasi saya. Recommended!\",\n",
    "    \"Tidak suka dengan produk ini, sangat mengecewakan dan payah.\",\n",
    "    \"Pembelian yang memuaskan, kualitas baik dan pengiriman cepat.\",\n",
    "    \"Tidak sesuai dengan deskripsi, saya kecewa.\",\n",
    "    \"Produk ini benar-benar hebat, saya sangat puas!\",\n",
    "    \"Pelayanan yang buruk, produk tidak sesuai harapan.\"\n",
    "]\n",
    "\n",
    "print('prediksi sentimen dari data review: ')\n",
    "\n",
    "for review in reviews: #mengulang setiap ulasan\n",
    "    sentiment = classify_review(review) #ini manggil fungsi\n",
    "\n",
    "print(f'sentimen ulasan: {sentiment} ')\n",
    "\n",
    "user_review = input('Masukkan Ulasan anda:')\n",
    "\n",
    "user_sentiment = classify_review(user_review)\n",
    "\n",
    "print(f'Sentimen ulasan anda: {user_sentiment}')"
   ]
  },
  {
   "cell_type": "code",
   "execution_count": null,
   "id": "4ca95871-2951-48e7-9873-f7f4853e4106",
   "metadata": {},
   "outputs": [],
   "source": []
  }
 ],
 "metadata": {
  "kernelspec": {
   "display_name": "Python 3 (ipykernel)",
   "language": "python",
   "name": "python3"
  },
  "language_info": {
   "codemirror_mode": {
    "name": "ipython",
    "version": 3
   },
   "file_extension": ".py",
   "mimetype": "text/x-python",
   "name": "python",
   "nbconvert_exporter": "python",
   "pygments_lexer": "ipython3",
   "version": "3.13.0"
  }
 },
 "nbformat": 4,
 "nbformat_minor": 5
}
